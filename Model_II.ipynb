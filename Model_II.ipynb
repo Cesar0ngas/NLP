{
 "cells": [
  {
   "cell_type": "code",
   "execution_count": null,
   "metadata": {},
   "outputs": [
    {
     "name": "stderr",
     "output_type": "stream",
     "text": [
      "c:\\Users\\cesco\\Miniconda3\\envs\\integrador\\Lib\\site-packages\\tqdm\\auto.py:21: TqdmWarning: IProgress not found. Please update jupyter and ipywidgets. See https://ipywidgets.readthedocs.io/en/stable/user_install.html\n",
      "  from .autonotebook import tqdm as notebook_tqdm\n",
      "You are using the default legacy behaviour of the <class 'transformers.models.t5.tokenization_t5.T5Tokenizer'>. This is expected, and simply means that the `legacy` (previous) behavior will be used so nothing changes for you. If you want to use the new behaviour, set `legacy=False`. This should only be set if you understand what it means, and thoroughly read the reason why this was added as explained in https://github.com/huggingface/transformers/pull/24565\n"
     ]
    }
   ],
   "source": [
    "import pandas as pd\n",
    "from sklearn.model_selection import train_test_split\n",
    "from transformers import T5Tokenizer\n",
    "import torch\n",
    "\n",
    "# Cargar los datos desde el archivo CSV\n",
    "df = pd.read_csv('C:/Users/cesco/Desktop/Personal/UPY/9/NLP/proyecto/train.csv',\n",
    "                 header=None, names=['polarity', 'summary', 'reviewText'])\n",
    "\n",
    "# Crear columna con reseñas invertidas (cambiando algunas palabras clave)\n",
    "df['invertedReview'] = df.apply(\n",
    "    lambda row: row['reviewText'].replace(\"good\", \"bad\").replace(\"excellent\", \"terrible\") \n",
    "                if row['polarity'] == 1 else\n",
    "                row['reviewText'].replace(\"bad\", \"good\").replace(\"terrible\", \"excellent\"),\n",
    "    axis=1\n",
    ")\n",
    "\n",
    "# Dividir los datos en conjunto de entrenamiento y validación (90% entrenamiento, 10% validación)\n",
    "train_df, val_df = train_test_split(df, test_size=0.1, random_state=42)\n",
    "\n",
    "# Inicializar el tokenizador de T5\n",
    "tokenizer = T5Tokenizer.from_pretrained('t5-small')\n",
    "\n",
    "# Tokenizar las reseñas originales y las reseñas invertidas\n",
    "\n",
    "def tokenize_function(examples):\n",
    "    return tokenizer(examples['reviewText'], padding=\"max_length\", truncation=True, max_length=512)\n",
    "\n",
    "def tokenize_inverted_function(examples):\n",
    "    return tokenizer(examples['invertedReview'], padding=\"max_length\", truncation=True, max_length=512)\n",
    "\n",
    "# Tokenizar datos de entrenamiento\n",
    "train_encodings = train_df['reviewText'].apply(lambda x: tokenize_function({'reviewText': x}))\n",
    "train_decodings = train_df['invertedReview'].apply(lambda x: tokenize_inverted_function({'invertedReview': x}))\n",
    "\n",
    "# Tokenizar datos de validación\n",
    "val_encodings = val_df['reviewText'].apply(lambda x: tokenize_function({'reviewText': x}))\n",
    "val_decodings = val_df['invertedReview'].apply(lambda x: tokenize_inverted_function({'invertedReview': x}))\n",
    "\n",
    "# Crear datasets de PyTorch (usando TensorDataset)\n",
    "train_dataset = torch.utils.data.TensorDataset(\n",
    "    torch.stack(train_encodings.apply(lambda x: torch.tensor(x['input_ids'])).values),\n",
    "    torch.stack(train_decodings.apply(lambda x: torch.tensor(x['input_ids'])).values)\n",
    ")\n",
    "\n",
    "val_dataset = torch.utils.data.TensorDataset(\n",
    "    torch.stack(val_encodings.apply(lambda x: torch.tensor(x['input_ids'])).values),\n",
    "    torch.stack(val_decodings.apply(lambda x: torch.tensor(x['input_ids'])).values)\n",
    ")\n"
   ]
  },
  {
   "cell_type": "code",
   "execution_count": null,
   "metadata": {},
   "outputs": [],
   "source": [
    "from transformers import T5ForConditionalGeneration, Trainer, TrainingArguments\n",
    "\n",
    "# Cargar modelo T5 preentrenado\n",
    "model = T5ForConditionalGeneration.from_pretrained('t5-small')\n",
    "\n",
    "# Configurar parámetros de entrenamiento\n",
    "training_args = TrainingArguments(\n",
    "    output_dir='./results',\n",
    "    evaluation_strategy=\"epoch\",\n",
    "    learning_rate=2e-5,\n",
    "    per_device_train_batch_size=8,\n",
    "    per_device_eval_batch_size=8,\n",
    "    num_train_epochs=3,\n",
    "    weight_decay=0.01,\n",
    ")\n",
    "\n",
    "# Entrenador\n",
    "trainer = Trainer(\n",
    "    model=model,\n",
    "    args=training_args,\n",
    "    train_dataset=train_dataset,\n",
    "    eval_dataset=val_dataset,\n",
    ")\n",
    "\n",
    "# Entrenar el modelo\n",
    "trainer.train()\n"
   ]
  },
  {
   "cell_type": "code",
   "execution_count": null,
   "metadata": {},
   "outputs": [],
   "source": [
    "# Evaluar el modelo\n",
    "eval_results = trainer.evaluate()\n",
    "\n",
    "# Calcular la perplejidad\n",
    "import math\n",
    "\n",
    "perplexity = math.exp(eval_results['eval_loss'])\n",
    "print(f\"Perplexity: {perplexity}\")\n"
   ]
  },
  {
   "cell_type": "code",
   "execution_count": null,
   "metadata": {},
   "outputs": [],
   "source": [
    "# Generar reseñas invertidas\n",
    "def generate_inverted_review(review):\n",
    "    input_ids = tokenizer.encode(review, return_tensors='pt', truncation=True, max_length=512)\n",
    "    generated_ids = model.generate(input_ids, max_length=512, num_return_sequences=1, num_beams=5, early_stopping=True)\n",
    "    return tokenizer.decode(generated_ids[0], skip_special_tokens=True)\n",
    "\n",
    "# Probar con una reseña\n",
    "review = \"This product is amazing, I love it!\"\n",
    "inverted_review = generate_inverted_review(review)\n",
    "print(f\"Original: {review}\")\n",
    "print(f\"Inverted: {inverted_review}\")\n"
   ]
  }
 ],
 "metadata": {
  "kernelspec": {
   "display_name": "integrador",
   "language": "python",
   "name": "python3"
  },
  "language_info": {
   "codemirror_mode": {
    "name": "ipython",
    "version": 3
   },
   "file_extension": ".py",
   "mimetype": "text/x-python",
   "name": "python",
   "nbconvert_exporter": "python",
   "pygments_lexer": "ipython3",
   "version": "3.11.10"
  }
 },
 "nbformat": 4,
 "nbformat_minor": 2
}
